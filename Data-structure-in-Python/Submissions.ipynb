{
 "cells": [
  {
   "cell_type": "code",
   "execution_count": 1,
   "metadata": {},
   "outputs": [],
   "source": [
    "import re"
   ]
  },
  {
   "cell_type": "code",
   "execution_count": 51,
   "metadata": {},
   "outputs": [
    {
     "data": {
      "text/plain": [
       "463582"
      ]
     },
     "execution_count": 51,
     "metadata": {},
     "output_type": "execute_result"
    }
   ],
   "source": [
    "data = open('regex_sum_1897838.txt', 'r')\n",
    "\n",
    "numbers = list()\n",
    "for line in data:\n",
    "    numbers = numbers + re.findall('[0-9]+', line.rstrip())\n",
    "\n",
    "num_number = [int(x) for x in numbers]\n",
    "sum(num_number)"
   ]
  },
  {
   "cell_type": "code",
   "execution_count": 52,
   "metadata": {},
   "outputs": [
    {
     "name": "stdout",
     "output_type": "stream",
     "text": [
      "HTTP/1.1 200 OK\n",
      "Date: Thu, 05 Oct 2023 16:01:53 GMT\n",
      "Server: Apache/2.4.18 (Ubuntu)\n",
      "Last-Modified: Sat, 13 May 2017 11:22:22 GMT\n",
      "ETag: \"1d3-54f6609240717\"\n",
      "Accept-Ranges: bytes\n",
      "Content-Length: 467\n",
      "Cache-Control: max-age=0, no-cache, no-store, must-revalidate\n",
      "Pragma: no-cache\n",
      "Expires: Wed, 11 Jan 1984 05:00:00 GMT\n",
      "Connection: close\n",
      "Content-Type: text/plain\n",
      "\n",
      "Why should you learn to write programs?\n",
      "\n",
      "Writing programs (or programming) is a very creative \n",
      "and rewarding activity.  You can write programs for \n",
      "many reasons, ranging from making your living to solving\n",
      "a difficult data analysis problem to having fun to helping\n",
      "someone else solve a problem.  This book assumes that \n",
      "everyone needs to know how to program, and that once \n",
      "you know how to program you will figure out what you want \n",
      "to do with your newfound skills.  \n"
     ]
    }
   ],
   "source": [
    "import socket\n",
    "\n",
    "mysock = socket.socket(socket.AF_INET, socket.SOCK_STREAM)\n",
    "mysock.connect(('data.pr4e.org', 80))\n",
    "cmd = 'GET http://data.pr4e.org/intro-short.txt HTTP/1.0\\r\\n\\r\\n'.encode()\n",
    "mysock.send(cmd)\n",
    "\n",
    "while True:\n",
    "    data = mysock.recv(512)\n",
    "    if len(data) < 1:\n",
    "        break\n",
    "    print(data.decode(),end='')\n",
    "\n",
    "mysock.close()"
   ]
  },
  {
   "cell_type": "code",
   "execution_count": 56,
   "metadata": {},
   "outputs": [],
   "source": [
    "from bs4 import BeautifulSoup \n",
    "import urllib, requests, urllib.parse, urllib.error"
   ]
  },
  {
   "cell_type": "code",
   "execution_count": 59,
   "metadata": {},
   "outputs": [],
   "source": [
    "filelink = urllib.request.urlopen('http://py4e-data.dr-chuck.net/comments_1897840.html').read()\n",
    "soup = BeautifulSoup(filelink, 'html.parser')"
   ]
  },
  {
   "cell_type": "code",
   "execution_count": 85,
   "metadata": {},
   "outputs": [
    {
     "data": {
      "text/plain": [
       "2562"
      ]
     },
     "execution_count": 85,
     "metadata": {},
     "output_type": "execute_result"
    }
   ],
   "source": [
    "tags = soup('span')\n",
    "lst = list()\n",
    "\n",
    "for tag in tags:\n",
    "    lst = lst + re.findall('^<span class=\"comments\">([0-9]+)', str(tag))\n",
    "\n",
    "num_number = [int(x) for x in lst]\n",
    "sum(num_number)\n"
   ]
  },
  {
   "cell_type": "code",
   "execution_count": 101,
   "metadata": {},
   "outputs": [
    {
     "name": "stdout",
     "output_type": "stream",
     "text": [
      "http://py4e-data.dr-chuck.net/known_by_Keatin.html\n",
      "Keatin\n",
      "http://py4e-data.dr-chuck.net/known_by_Asya.html\n",
      "Asya\n",
      "http://py4e-data.dr-chuck.net/known_by_Marcelina.html\n",
      "Marcelina\n",
      "http://py4e-data.dr-chuck.net/known_by_Rayne.html\n",
      "Rayne\n",
      "http://py4e-data.dr-chuck.net/known_by_Dominic.html\n",
      "Dominic\n",
      "http://py4e-data.dr-chuck.net/known_by_Jai.html\n",
      "Jai\n",
      "http://py4e-data.dr-chuck.net/known_by_Mabruka.html\n",
      "Mabruka\n"
     ]
    }
   ],
   "source": [
    "\n",
    "from bs4 import BeautifulSoup \n",
    "import urllib, urllib.parse, urllib.error\n",
    "from bs4 import BeautifulSoup\n",
    "\n",
    "link = 'http://py4e-data.dr-chuck.net/known_by_Aby.html'\n",
    "count = 7\n",
    "position = 18\n",
    "for i in range(count):\n",
    "    html = urllib.request.urlopen(link).read()\n",
    "    soup = BeautifulSoup(html)\n",
    "\n",
    "    tags = soup('a')\n",
    "    slst = []\n",
    "    tlst = []\n",
    "    for tag in tags:\n",
    "        x = tag.get('href', None)\n",
    "        slst.append(x)\n",
    "        y = tag.text\n",
    "        tlst.append(y)\n",
    "    \n",
    "    print(slst[position-1])\n",
    "    print(tlst[position-1])\n",
    "    link = slst[position-1]"
   ]
  },
  {
   "cell_type": "code",
   "execution_count": 5,
   "metadata": {},
   "outputs": [
    {
     "name": "stdout",
     "output_type": "stream",
     "text": [
      "Count :  50\n",
      "Sum :  2395\n"
     ]
    }
   ],
   "source": [
    "import urllib\n",
    "import urllib, urllib.parse, urllib.error\n",
    "import xml.etree.ElementTree as ET\n",
    "\n",
    "# url = raw_input(\"Enter - \")\n",
    "url = 'http://py4e-data.dr-chuck.net/comments_1897842.xml'\n",
    "uh = urllib.request.urlopen(url)\n",
    "data = uh.read()\n",
    "\n",
    "tree = ET.fromstring(data)\n",
    "results = tree.findall('comments/comment')\n",
    "count =0\n",
    "sum=0\n",
    "for item in results:\n",
    "    x = int(item.find('count').text)\n",
    "    count =count+1\n",
    "    sum = sum+x\n",
    "\n",
    "print(\"Count : \",count)\n",
    "print(\"Sum : \",sum)"
   ]
  },
  {
   "cell_type": "code",
   "execution_count": 6,
   "metadata": {},
   "outputs": [
    {
     "name": "stdout",
     "output_type": "stream",
     "text": [
      "2814\n"
     ]
    }
   ],
   "source": [
    "import urllib.request,urllib.error\n",
    "import json\n",
    "import ssl\n",
    "\n",
    "ctx = ssl.create_default_context()\n",
    "ctx.check_hostname = False\n",
    "ctx.verify_mode = ssl.CERT_NONE\n",
    "\n",
    "sum=0\n",
    "# url=input('enter-')\n",
    "js=urllib.request.urlopen('http://py4e-data.dr-chuck.net/comments_1897843.json',context=ctx).read()\n",
    "info=json.loads(js)\n",
    "\n",
    "for item in info['comments']:\n",
    "    sum+=int(item['count'])\n",
    "print(sum)"
   ]
  },
  {
   "cell_type": "code",
   "execution_count": 13,
   "metadata": {},
   "outputs": [
    {
     "name": "stdout",
     "output_type": "stream",
     "text": [
      "ChIJw1Evx_iyQYgRb8L0BSpntjo\n",
      "ChIJw1Evx_iyQYgRb8L0BSpntjo\n",
      "ChIJw1Evx_iyQYgRb8L0BSpntjo\n",
      "ChIJw1Evx_iyQYgRb8L0BSpntjo\n",
      "ChIJw1Evx_iyQYgRb8L0BSpntjo\n",
      "ChIJw1Evx_iyQYgRb8L0BSpntjo\n",
      "ChIJw1Evx_iyQYgRb8L0BSpntjo\n",
      "ChIJw1Evx_iyQYgRb8L0BSpntjo\n",
      "ChIJw1Evx_iyQYgRb8L0BSpntjo\n",
      "ChIJw1Evx_iyQYgRb8L0BSpntjo\n",
      "ChIJw1Evx_iyQYgRb8L0BSpntjo\n",
      "ChIJw1Evx_iyQYgRb8L0BSpntjo\n",
      "ChIJw1Evx_iyQYgRb8L0BSpntjo\n",
      "ChIJw1Evx_iyQYgRb8L0BSpntjo\n",
      "ChIJw1Evx_iyQYgRb8L0BSpntjo\n",
      "ChIJw1Evx_iyQYgRb8L0BSpntjo\n",
      "ChIJw1Evx_iyQYgRb8L0BSpntjo\n",
      "ChIJw1Evx_iyQYgRb8L0BSpntjo\n",
      "ChIJw1Evx_iyQYgRb8L0BSpntjo\n",
      "ChIJw1Evx_iyQYgRb8L0BSpntjo\n",
      "ChIJw1Evx_iyQYgRb8L0BSpntjo\n",
      "ChIJw1Evx_iyQYgRb8L0BSpntjo\n",
      "ChIJw1Evx_iyQYgRb8L0BSpntjo\n"
     ]
    },
    {
     "ename": "KeyboardInterrupt",
     "evalue": "",
     "output_type": "error",
     "traceback": [
      "\u001b[1;31m---------------------------------------------------------------------------\u001b[0m",
      "\u001b[1;31mKeyboardInterrupt\u001b[0m                         Traceback (most recent call last)",
      "\u001b[1;32mc:\\Users\\Restart\\My Drive\\restartmode\\Data-structure-in-Python\\Submissions.ipynb Cell 10\u001b[0m line \u001b[0;36m2\n\u001b[0;32m     <a href='vscode-notebook-cell:/c%3A/Users/Restart/My%20Drive/restartmode/Data-structure-in-Python/Submissions.ipynb#X12sZmlsZQ%3D%3D?line=23'>24</a>\u001b[0m parms[\u001b[39m'\u001b[39m\u001b[39mkey\u001b[39m\u001b[39m'\u001b[39m] \u001b[39m=\u001b[39m api_key\n\u001b[0;32m     <a href='vscode-notebook-cell:/c%3A/Users/Restart/My%20Drive/restartmode/Data-structure-in-Python/Submissions.ipynb#X12sZmlsZQ%3D%3D?line=24'>25</a>\u001b[0m url \u001b[39m=\u001b[39m serviceurl \u001b[39m+\u001b[39m urllib\u001b[39m.\u001b[39mparse\u001b[39m.\u001b[39murlencode(parms)\n\u001b[1;32m---> <a href='vscode-notebook-cell:/c%3A/Users/Restart/My%20Drive/restartmode/Data-structure-in-Python/Submissions.ipynb#X12sZmlsZQ%3D%3D?line=26'>27</a>\u001b[0m uh \u001b[39m=\u001b[39m urllib\u001b[39m.\u001b[39mrequest\u001b[39m.\u001b[39murlopen(url, context\u001b[39m=\u001b[39mctx)\n\u001b[0;32m     <a href='vscode-notebook-cell:/c%3A/Users/Restart/My%20Drive/restartmode/Data-structure-in-Python/Submissions.ipynb#X12sZmlsZQ%3D%3D?line=27'>28</a>\u001b[0m data \u001b[39m=\u001b[39m uh\u001b[39m.\u001b[39mread()\u001b[39m.\u001b[39mdecode()\n\u001b[0;32m     <a href='vscode-notebook-cell:/c%3A/Users/Restart/My%20Drive/restartmode/Data-structure-in-Python/Submissions.ipynb#X12sZmlsZQ%3D%3D?line=29'>30</a>\u001b[0m \u001b[39mtry\u001b[39;00m:\n",
      "File \u001b[1;32mc:\\Users\\Restart\\AppData\\Local\\anaconda3\\Lib\\urllib\\request.py:216\u001b[0m, in \u001b[0;36murlopen\u001b[1;34m(url, data, timeout, cafile, capath, cadefault, context)\u001b[0m\n\u001b[0;32m    214\u001b[0m \u001b[39melse\u001b[39;00m:\n\u001b[0;32m    215\u001b[0m     opener \u001b[39m=\u001b[39m _opener\n\u001b[1;32m--> 216\u001b[0m \u001b[39mreturn\u001b[39;00m opener\u001b[39m.\u001b[39mopen(url, data, timeout)\n",
      "File \u001b[1;32mc:\\Users\\Restart\\AppData\\Local\\anaconda3\\Lib\\urllib\\request.py:519\u001b[0m, in \u001b[0;36mOpenerDirector.open\u001b[1;34m(self, fullurl, data, timeout)\u001b[0m\n\u001b[0;32m    516\u001b[0m     req \u001b[39m=\u001b[39m meth(req)\n\u001b[0;32m    518\u001b[0m sys\u001b[39m.\u001b[39maudit(\u001b[39m'\u001b[39m\u001b[39murllib.Request\u001b[39m\u001b[39m'\u001b[39m, req\u001b[39m.\u001b[39mfull_url, req\u001b[39m.\u001b[39mdata, req\u001b[39m.\u001b[39mheaders, req\u001b[39m.\u001b[39mget_method())\n\u001b[1;32m--> 519\u001b[0m response \u001b[39m=\u001b[39m \u001b[39mself\u001b[39m\u001b[39m.\u001b[39m_open(req, data)\n\u001b[0;32m    521\u001b[0m \u001b[39m# post-process response\u001b[39;00m\n\u001b[0;32m    522\u001b[0m meth_name \u001b[39m=\u001b[39m protocol\u001b[39m+\u001b[39m\u001b[39m\"\u001b[39m\u001b[39m_response\u001b[39m\u001b[39m\"\u001b[39m\n",
      "File \u001b[1;32mc:\\Users\\Restart\\AppData\\Local\\anaconda3\\Lib\\urllib\\request.py:536\u001b[0m, in \u001b[0;36mOpenerDirector._open\u001b[1;34m(self, req, data)\u001b[0m\n\u001b[0;32m    533\u001b[0m     \u001b[39mreturn\u001b[39;00m result\n\u001b[0;32m    535\u001b[0m protocol \u001b[39m=\u001b[39m req\u001b[39m.\u001b[39mtype\n\u001b[1;32m--> 536\u001b[0m result \u001b[39m=\u001b[39m \u001b[39mself\u001b[39m\u001b[39m.\u001b[39m_call_chain(\u001b[39mself\u001b[39m\u001b[39m.\u001b[39mhandle_open, protocol, protocol \u001b[39m+\u001b[39m\n\u001b[0;32m    537\u001b[0m                           \u001b[39m'\u001b[39m\u001b[39m_open\u001b[39m\u001b[39m'\u001b[39m, req)\n\u001b[0;32m    538\u001b[0m \u001b[39mif\u001b[39;00m result:\n\u001b[0;32m    539\u001b[0m     \u001b[39mreturn\u001b[39;00m result\n",
      "File \u001b[1;32mc:\\Users\\Restart\\AppData\\Local\\anaconda3\\Lib\\urllib\\request.py:496\u001b[0m, in \u001b[0;36mOpenerDirector._call_chain\u001b[1;34m(self, chain, kind, meth_name, *args)\u001b[0m\n\u001b[0;32m    494\u001b[0m \u001b[39mfor\u001b[39;00m handler \u001b[39min\u001b[39;00m handlers:\n\u001b[0;32m    495\u001b[0m     func \u001b[39m=\u001b[39m \u001b[39mgetattr\u001b[39m(handler, meth_name)\n\u001b[1;32m--> 496\u001b[0m     result \u001b[39m=\u001b[39m func(\u001b[39m*\u001b[39margs)\n\u001b[0;32m    497\u001b[0m     \u001b[39mif\u001b[39;00m result \u001b[39mis\u001b[39;00m \u001b[39mnot\u001b[39;00m \u001b[39mNone\u001b[39;00m:\n\u001b[0;32m    498\u001b[0m         \u001b[39mreturn\u001b[39;00m result\n",
      "File \u001b[1;32mc:\\Users\\Restart\\AppData\\Local\\anaconda3\\Lib\\urllib\\request.py:1377\u001b[0m, in \u001b[0;36mHTTPHandler.http_open\u001b[1;34m(self, req)\u001b[0m\n\u001b[0;32m   1376\u001b[0m \u001b[39mdef\u001b[39;00m \u001b[39mhttp_open\u001b[39m(\u001b[39mself\u001b[39m, req):\n\u001b[1;32m-> 1377\u001b[0m     \u001b[39mreturn\u001b[39;00m \u001b[39mself\u001b[39m\u001b[39m.\u001b[39mdo_open(http\u001b[39m.\u001b[39mclient\u001b[39m.\u001b[39mHTTPConnection, req)\n",
      "File \u001b[1;32mc:\\Users\\Restart\\AppData\\Local\\anaconda3\\Lib\\urllib\\request.py:1352\u001b[0m, in \u001b[0;36mAbstractHTTPHandler.do_open\u001b[1;34m(self, http_class, req, **http_conn_args)\u001b[0m\n\u001b[0;32m   1350\u001b[0m     \u001b[39mexcept\u001b[39;00m \u001b[39mOSError\u001b[39;00m \u001b[39mas\u001b[39;00m err: \u001b[39m# timeout error\u001b[39;00m\n\u001b[0;32m   1351\u001b[0m         \u001b[39mraise\u001b[39;00m URLError(err)\n\u001b[1;32m-> 1352\u001b[0m     r \u001b[39m=\u001b[39m h\u001b[39m.\u001b[39mgetresponse()\n\u001b[0;32m   1353\u001b[0m \u001b[39mexcept\u001b[39;00m:\n\u001b[0;32m   1354\u001b[0m     h\u001b[39m.\u001b[39mclose()\n",
      "File \u001b[1;32mc:\\Users\\Restart\\AppData\\Local\\anaconda3\\Lib\\http\\client.py:1378\u001b[0m, in \u001b[0;36mHTTPConnection.getresponse\u001b[1;34m(self)\u001b[0m\n\u001b[0;32m   1376\u001b[0m \u001b[39mtry\u001b[39;00m:\n\u001b[0;32m   1377\u001b[0m     \u001b[39mtry\u001b[39;00m:\n\u001b[1;32m-> 1378\u001b[0m         response\u001b[39m.\u001b[39mbegin()\n\u001b[0;32m   1379\u001b[0m     \u001b[39mexcept\u001b[39;00m \u001b[39mConnectionError\u001b[39;00m:\n\u001b[0;32m   1380\u001b[0m         \u001b[39mself\u001b[39m\u001b[39m.\u001b[39mclose()\n",
      "File \u001b[1;32mc:\\Users\\Restart\\AppData\\Local\\anaconda3\\Lib\\http\\client.py:318\u001b[0m, in \u001b[0;36mHTTPResponse.begin\u001b[1;34m(self)\u001b[0m\n\u001b[0;32m    316\u001b[0m \u001b[39m# read until we get a non-100 response\u001b[39;00m\n\u001b[0;32m    317\u001b[0m \u001b[39mwhile\u001b[39;00m \u001b[39mTrue\u001b[39;00m:\n\u001b[1;32m--> 318\u001b[0m     version, status, reason \u001b[39m=\u001b[39m \u001b[39mself\u001b[39m\u001b[39m.\u001b[39m_read_status()\n\u001b[0;32m    319\u001b[0m     \u001b[39mif\u001b[39;00m status \u001b[39m!=\u001b[39m CONTINUE:\n\u001b[0;32m    320\u001b[0m         \u001b[39mbreak\u001b[39;00m\n",
      "File \u001b[1;32mc:\\Users\\Restart\\AppData\\Local\\anaconda3\\Lib\\http\\client.py:279\u001b[0m, in \u001b[0;36mHTTPResponse._read_status\u001b[1;34m(self)\u001b[0m\n\u001b[0;32m    278\u001b[0m \u001b[39mdef\u001b[39;00m \u001b[39m_read_status\u001b[39m(\u001b[39mself\u001b[39m):\n\u001b[1;32m--> 279\u001b[0m     line \u001b[39m=\u001b[39m \u001b[39mstr\u001b[39m(\u001b[39mself\u001b[39m\u001b[39m.\u001b[39mfp\u001b[39m.\u001b[39mreadline(_MAXLINE \u001b[39m+\u001b[39m \u001b[39m1\u001b[39m), \u001b[39m\"\u001b[39m\u001b[39miso-8859-1\u001b[39m\u001b[39m\"\u001b[39m)\n\u001b[0;32m    280\u001b[0m     \u001b[39mif\u001b[39;00m \u001b[39mlen\u001b[39m(line) \u001b[39m>\u001b[39m _MAXLINE:\n\u001b[0;32m    281\u001b[0m         \u001b[39mraise\u001b[39;00m LineTooLong(\u001b[39m\"\u001b[39m\u001b[39mstatus line\u001b[39m\u001b[39m\"\u001b[39m)\n",
      "File \u001b[1;32mc:\\Users\\Restart\\AppData\\Local\\anaconda3\\Lib\\socket.py:706\u001b[0m, in \u001b[0;36mSocketIO.readinto\u001b[1;34m(self, b)\u001b[0m\n\u001b[0;32m    704\u001b[0m \u001b[39mwhile\u001b[39;00m \u001b[39mTrue\u001b[39;00m:\n\u001b[0;32m    705\u001b[0m     \u001b[39mtry\u001b[39;00m:\n\u001b[1;32m--> 706\u001b[0m         \u001b[39mreturn\u001b[39;00m \u001b[39mself\u001b[39m\u001b[39m.\u001b[39m_sock\u001b[39m.\u001b[39mrecv_into(b)\n\u001b[0;32m    707\u001b[0m     \u001b[39mexcept\u001b[39;00m timeout:\n\u001b[0;32m    708\u001b[0m         \u001b[39mself\u001b[39m\u001b[39m.\u001b[39m_timeout_occurred \u001b[39m=\u001b[39m \u001b[39mTrue\u001b[39;00m\n",
      "\u001b[1;31mKeyboardInterrupt\u001b[0m: "
     ]
    }
   ],
   "source": [
    "import urllib.request, urllib.parse, urllib.error\n",
    "import json\n",
    "import ssl\n",
    "\n",
    "api_key = False\n",
    "if api_key is False:\n",
    "    api_key = 42\n",
    "    serviceurl = 'http://py4e-data.dr-chuck.net/json?'\n",
    "else :\n",
    "    serviceurl = 'https://maps.googleapis.com/maps/api/geocode/json?'\n",
    "\n",
    "ctx = ssl.create_default_context()\n",
    "ctx.check_hostname = False\n",
    "ctx.verify_mode = ssl.CERT_NONE\n",
    "\n",
    "while True:\n",
    "    address = 'Xavier University'\n",
    "    if len(address) < 1: \n",
    "        break\n",
    "\n",
    "    parms = dict()\n",
    "    parms['address'] = address\n",
    "    if api_key is not False: \n",
    "        parms['key'] = api_key\n",
    "        url = serviceurl + urllib.parse.urlencode(parms)\n",
    "\n",
    "        uh = urllib.request.urlopen(url, context=ctx)\n",
    "        data = uh.read().decode()\n",
    "\n",
    "        try:\n",
    "            js = json.loads(data)\n",
    "        except:\n",
    "            js = None\n",
    "\n",
    "        if not js or 'status' not in js or js['status'] != 'OK':\n",
    "            print('==== Failure To Retrieve ====')\n",
    "            print(data)\n",
    "            continue\n",
    "\n",
    "    lat = js['results'][0]['geometry']['location']['lat']\n",
    "    lng = js['results'][0]['geometry']['location']['lng']\n",
    "    location = js['results'][0]['place_id']\n",
    "    print(location)\n"
   ]
  },
  {
   "cell_type": "code",
   "execution_count": null,
   "metadata": {},
   "outputs": [],
   "source": []
  }
 ],
 "metadata": {
  "kernelspec": {
   "display_name": "Python 3",
   "language": "python",
   "name": "python3"
  },
  "language_info": {
   "codemirror_mode": {
    "name": "ipython",
    "version": 3
   },
   "file_extension": ".py",
   "mimetype": "text/x-python",
   "name": "python",
   "nbconvert_exporter": "python",
   "pygments_lexer": "ipython3",
   "version": "3.11.4"
  }
 },
 "nbformat": 4,
 "nbformat_minor": 2
}
